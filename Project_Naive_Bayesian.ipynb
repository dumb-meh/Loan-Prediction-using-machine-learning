{
  "nbformat": 4,
  "nbformat_minor": 0,
  "metadata": {
    "colab": {
      "provenance": []
    },
    "kernelspec": {
      "name": "python3",
      "display_name": "Python 3"
    },
    "language_info": {
      "name": "python"
    }
  },
  "cells": [
    {
      "cell_type": "code",
      "source": [
        "from google.colab import drive\n",
        "drive.mount ('/content/drive')"
      ],
      "metadata": {
        "id": "lm_CsiBED1B0"
      },
      "execution_count": null,
      "outputs": []
    },
    {
      "cell_type": "code",
      "execution_count": 1,
      "metadata": {
        "id": "xKwQ28JgoT_Z"
      },
      "outputs": [],
      "source": [
        "from sklearn.model_selection import train_test_split\n",
        "\n",
        "import pandas as pd\n",
        "import numpy as np\n",
        "\n",
        "\n"
      ]
    },
    {
      "cell_type": "code",
      "source": [
        "df=pd.read_csv('/content/drive/MyDrive/CSE-366 (AI)/Dataset/Bank_Personal_Loan_Modelling.csv')"
      ],
      "metadata": {
        "id": "Kw8-4E98px0X"
      },
      "execution_count": 3,
      "outputs": []
    },
    {
      "cell_type": "code",
      "source": [
        "# Splitting the dataset\n",
        "train_df, test_df = train_test_split(df, test_size=0.15, random_state=42)\n"
      ],
      "metadata": {
        "id": "93eODqV9420d"
      },
      "execution_count": 17,
      "outputs": []
    },
    {
      "cell_type": "code",
      "source": [
        "# select only the rows where Personal Loan = 1 (Target Column)\n",
        "df_loan = train_df[train_df['Personal Loan'] == 1]\n",
        "prior_1=len(df_loan)/len (train_df)"
      ],
      "metadata": {
        "id": "HnUKklXTsIrC"
      },
      "execution_count": 5,
      "outputs": []
    },
    {
      "cell_type": "code",
      "source": [
        "# select only the rows where Personal Loan = 0 (Target Column)\n",
        "df_no_loan = train_df[train_df['Personal Loan'] == 0]\n",
        "prior_0=len(df_no_loan)/len (train_df)"
      ],
      "metadata": {
        "id": "1WNsQu-mGj7F"
      },
      "execution_count": 6,
      "outputs": []
    },
    {
      "cell_type": "code",
      "source": [
        "def univariate_normal(x, mean, variance):\n",
        "    \n",
        "    return ((1. / np.sqrt(2 * np.pi * variance)) * \n",
        "            np.exp(-(x - mean)**2 / (2 * variance)))"
      ],
      "metadata": {
        "id": "JDP-sCLwFg9G"
      },
      "execution_count": 7,
      "outputs": []
    },
    {
      "cell_type": "code",
      "source": [
        "#For calculating income column probability\n",
        "\n",
        "#personal_loan=1\n",
        "income_values_1 = df_loan['Income']\n",
        "avg_income_1=income_values_1.mean()\n",
        "variance_income_1=income_values_1.var()\n",
        "\n",
        "#personal_loan=0\n",
        "income_values_0 = df_no_loan['Income']\n",
        "avg_income_0=income_values_0.mean()\n",
        "variance_income_0=income_values_0.var()\n",
        "\n",
        "\n"
      ],
      "metadata": {
        "id": "C37XaimEFkNw"
      },
      "execution_count": 8,
      "outputs": []
    },
    {
      "cell_type": "code",
      "source": [
        "#For calculating CCAvg probability\n",
        "\n",
        "#personal_loan=1\n",
        "CCAvg_values_1 = df_loan['CCAvg']\n",
        "mean_CCAvg_1=CCAvg_values_1.mean()\n",
        "variance_CCAvg_1=CCAvg_values_1.var()\n",
        "\n",
        "\n",
        "#personal_loan=0\n",
        "CCAvg_values_0 = df_no_loan['CCAvg']\n",
        "mean_CCAvg_0=CCAvg_values_0.mean()\n",
        "variance_CCAvg_0=CCAvg_values_0.var()\n",
        "\n",
        "\n"
      ],
      "metadata": {
        "id": "TykyuHhZL-6a"
      },
      "execution_count": 9,
      "outputs": []
    },
    {
      "cell_type": "code",
      "source": [
        "#For calculating Mortage probability\n",
        "\n",
        "#personal_loan=1\n",
        "Mortgage_values_1 = df_loan['Mortgage']\n",
        "mean_Mortgage_1=Mortgage_values_1.mean()\n",
        "variance_Mortgage_1=Mortgage_values_1.var()\n",
        "\n",
        "\n",
        "#personal_loan=0\n",
        "Mortgage_values_0 = df_no_loan['Mortgage']\n",
        "mean_Mortgage_0=Mortgage_values_0.mean()\n",
        "variance_Mortgage_0=Mortgage_values_0.var()\n",
        "\n"
      ],
      "metadata": {
        "id": "kZW80nhtGt7K"
      },
      "execution_count": 10,
      "outputs": []
    },
    {
      "cell_type": "code",
      "source": [
        "#For calculating Education probability\n",
        "\n",
        "#For personal_loan=1  & Education=1\n",
        "\n",
        "df_loan_edu_1 = df_loan[df_loan['Education'] == 1]\n",
        "prob_loan_edu_1=len(df_loan_edu_1)/len(df_loan)\n",
        "\n",
        "#For personal_loan=1  & Education=2\n",
        "\n",
        "df_loan_edu_2 = df_loan[df_loan['Education'] == 2]\n",
        "prob_loan_edu_2=len(df_loan_edu_2)/len(df_loan)\n",
        "\n",
        "#For personal_loan=1  & Education=3\n",
        "\n",
        "df_loan_edu_3 = df_loan[df_loan['Education'] == 3]\n",
        "prob_loan_edu_3=len(df_loan_edu_3)/len(df_loan)\n",
        "\n",
        "\n",
        "#For personal_loan=0  & Education=1\n",
        "\n",
        "df_no_loan_edu_1 = df_no_loan[df_no_loan['Education'] == 1]\n",
        "prob_no_loan_edu_1=len(df_no_loan_edu_1)/len(df_no_loan)\n",
        "\n",
        "#For personal_loan=0  & Education=2\n",
        "\n",
        "df_no_loan_edu_2 = df_no_loan[df_no_loan['Education'] == 2]\n",
        "prob_no_loan_edu_2=len(df_no_loan_edu_2)/len(df_no_loan)\n",
        "\n",
        "#For personal_loan=0  & Education=3\n",
        "\n",
        "df_no_loan_edu_3 = df_no_loan[df_no_loan['Education'] == 3]\n",
        "prob_no_loan_edu_3=len(df_no_loan_edu_3)/len(df_no_loan)\n",
        "\n",
        "\n",
        "\n"
      ],
      "metadata": {
        "id": "Dinh7CkQa4ox"
      },
      "execution_count": 11,
      "outputs": []
    },
    {
      "cell_type": "code",
      "source": [
        "#For calculating Securities Account probability\n",
        "\n",
        "#For personal_loan=1  & Securities Account=1\n",
        "\n",
        "df_loan_SA_1 = df_loan[df_loan['Securities Account'] == 1]\n",
        "prob_loan_SA_1=len(df_loan_SA_1)/len(df_loan)\n",
        "\n",
        "#For personal_loan=1  & Securities Account=0\n",
        "\n",
        "# df_loan_SA_0 = df_loan[df_loan['Securities Account'] == 0]\n",
        "# prob_loan_SA_0=len(df_loan_SA_0)/len(df_loan)\n",
        "\n",
        "prob_loan_SA_0=1-prob_loan_SA_1\n",
        "\n",
        "#For personal_loan=0  & Securities Account=1\n",
        "\n",
        "df_no_loan_SA_1 = df_no_loan[df_no_loan['Securities Account'] == 1]\n",
        "prob_no_loan_SA_1=len(df_no_loan_SA_1)/len(df_no_loan)\n",
        "\n",
        "#For personal_loan=0  & Securities Account=0\n",
        "\n",
        "prob_no_loan_SA_0=1-prob_no_loan_SA_1\n",
        "\n",
        "\n",
        "\n",
        "\n",
        "\n"
      ],
      "metadata": {
        "id": "Tl3uGjoregG-"
      },
      "execution_count": 12,
      "outputs": []
    },
    {
      "cell_type": "code",
      "source": [
        "#For calculating CD Account probability\n",
        "\n",
        "\n",
        "#For personal_loan=1  & CD Account=1\n",
        "\n",
        "df_loan_CD_1 = df_loan[df_loan['CD Account'] == 1]\n",
        "prob_loan_CD_1=len(df_loan_CD_1)/len(df_loan)\n",
        "\n",
        "#For personal_loan=1  & CD Account=0\n",
        "\n",
        "prob_loan_CD_0=1-prob_loan_CD_1\n",
        "\n",
        "\n",
        "\n",
        "\n",
        "#For personal_loan=0  & CD Account=1\n",
        "\n",
        "df_no_loan_CD_1 = df_no_loan[df_no_loan['CD Account'] == 1]\n",
        "prob_no_loan_CD_1=len(df_no_loan_CD_1)/len(df_no_loan)\n",
        "\n",
        "#For personal_loan=0  & CD Account=0\n",
        "\n",
        "prob_no_loan_CD_0=1-prob_no_loan_CD_1\n",
        "\n"
      ],
      "metadata": {
        "id": "csOLJ52ugog0"
      },
      "execution_count": 13,
      "outputs": []
    },
    {
      "cell_type": "code",
      "source": [
        "def Naive_Bayesian (Income,CCAvg,Mortgage,Education,Securities_Account,CD_Account):\n",
        "    \n",
        "    #For Perosnal Loan==1\n",
        " \n",
        "\n",
        "        \n",
        "        #Education Probability\n",
        "        if (Education==1):\n",
        "          prob_edu=prob_loan_edu_1\n",
        "        elif (Education==2):\n",
        "          prob_edu=prob_loan_edu_2\n",
        "        else:\n",
        "          prob_edu=prob_loan_edu_3\n",
        "        \n",
        "\n",
        "        #Securities Account Probability\n",
        "        if (Securities_Account==1):\n",
        "          prob_SA=prob_loan_SA_1\n",
        "        else:\n",
        "          prob_SA=prob_loan_SA_0\n",
        "\n",
        "        \n",
        "        #CD Account Probability\n",
        "        if (Securities_Account==1):\n",
        "          prob_CD=prob_loan_CD_1\n",
        "        else:\n",
        "          prob_CD=prob_loan_CD_0\n",
        "\n",
        "        \n",
        "        #Income Probability\n",
        "        prob_income= univariate_normal (Income,avg_income_1,variance_income_1)\n",
        "        \n",
        "\n",
        "        #CCAvg Probability\n",
        "        prob_CCAvg= univariate_normal (CCAvg,mean_CCAvg_1,variance_CCAvg_1)\n",
        "\n",
        "        #Mortgage Probability\n",
        "        prob_Mortgage= univariate_normal (CCAvg,mean_Mortgage_1,variance_Mortgage_1)\n",
        "\n",
        "        prob_1=prob_edu*prob_SA*prob_CD*prob_income*prob_CCAvg*prob_Mortgage*prior_1\n",
        "        # print ('Probability of taking the loan',prob_1,'\\n')\n",
        "       \n",
        "#For personal loan=0\n",
        "        \n",
        "\n",
        "\n",
        "        #Education Probability\n",
        "        if (Education==1):\n",
        "          prob_edu=prob_no_loan_edu_1\n",
        "        elif (Education==2):\n",
        "          prob_edu=prob_no_loan_edu_2\n",
        "        else:\n",
        "          prob_edu=prob_no_loan_edu_3\n",
        "        \n",
        "\n",
        "        #Securities Account Probability\n",
        "        if (Securities_Account==1):\n",
        "          prob_SA=prob_no_loan_SA_1\n",
        "        else:\n",
        "          prob_SA=prob_no_loan_SA_0\n",
        "\n",
        "        \n",
        "        #CD Account Probability\n",
        "        if (Securities_Account==1):\n",
        "          prob_CD=prob_no_loan_CD_1\n",
        "        else:\n",
        "          prob_CD=prob_no_loan_CD_0\n",
        "\n",
        "        \n",
        "        #Income Probability\n",
        "\n",
        "        prob_income= univariate_normal (Income,avg_income_0,variance_income_0)\n",
        "        \n",
        "\n",
        "        #CCAvg Probability\n",
        "        prob_CCAvg= univariate_normal (CCAvg,mean_CCAvg_0,variance_CCAvg_0)\n",
        "\n",
        "        #Mortgage Probability\n",
        "        prob_Mortgage= univariate_normal (CCAvg,mean_Mortgage_0,variance_Mortgage_0)\n",
        "\n",
        "        prob_0=prob_edu*prob_SA*prob_CD*prob_income*prob_CCAvg*prob_Mortgage*prior_0\n",
        "        # print ('Probability of not taking the loan',prob_0,'\\n')\n",
        "\n",
        "        if(prob_1>prob_0):\n",
        "          # print ('Class One: Personal loan will be taken')\n",
        "          return 1\n",
        "        else:\n",
        "          # print ('Class Two: Personal loan will not be taken')\n",
        "          return 0\n",
        "\n",
        "        \n",
        "\n",
        "\n",
        "        \n",
        "\n",
        "\n",
        "\n"
      ],
      "metadata": {
        "id": "AYlspZLCifbs"
      },
      "execution_count": 18,
      "outputs": []
    },
    {
      "cell_type": "code",
      "source": [
        "def prediction_accuracy(test_df):\n",
        "    accuracy = 0  # Initialize accuracy variable\n",
        "\n",
        "    for index, row in test_df.iterrows():\n",
        "        # Extract the required features from the row\n",
        "        Income = row['Income']\n",
        "        CCAvg = row['CCAvg']\n",
        "        Mortgage = row['Mortgage']\n",
        "        Education = row['Education']\n",
        "        Securities_Account = row['Securities Account']\n",
        "        CD_Account = row['CD Account']\n",
        "        Personal_Loan = row['Personal Loan']\n",
        "\n",
        "        # Call Naive_Bayesian function to get the prediction\n",
        "        prediction = Naive_Bayesian(Income, CCAvg, Mortgage, Education, Securities_Account, CD_Account)\n",
        "\n",
        "        if prediction== Personal_Loan:  # Compare prediction with actual value\n",
        "            accuracy += 1\n",
        "\n",
        "    return accuracy\n"
      ],
      "metadata": {
        "id": "Zoj533pJ-wMv"
      },
      "execution_count": 19,
      "outputs": []
    },
    {
      "cell_type": "code",
      "source": [
        "accuracy = prediction_accuracy(test_df)\n",
        "accuracy_percantage=accuracy/len (test_df) *100\n",
        "print(\"Prediction Accuracy:\", accuracy,\" out of \",len(test_df), \"     Percentage:\" ,accuracy_percantage,\"%\")\n"
      ],
      "metadata": {
        "id": "N997dZr8wi43",
        "colab": {
          "base_uri": "https://localhost:8080/"
        },
        "outputId": "f1139ca1-7b80-4dac-9ca0-475172ca46c9"
      },
      "execution_count": 20,
      "outputs": [
        {
          "output_type": "stream",
          "name": "stdout",
          "text": [
            "Prediction Accuracy: 683  out of  750      Percentage: 91.06666666666666 %\n"
          ]
        }
      ]
    }
  ]
}